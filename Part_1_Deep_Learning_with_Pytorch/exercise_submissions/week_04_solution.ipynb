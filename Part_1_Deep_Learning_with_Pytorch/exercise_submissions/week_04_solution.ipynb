{
  "cells": [
    {
      "cell_type": "code",
      "execution_count": null,
      "metadata": {
        "id": "GH0qt9P9F3jA"
      },
      "outputs": [],
      "source": [
        "import pandas as pd"
      ]
    },
    {
      "cell_type": "markdown",
      "source": [
        "1.What are 3 areas in industry where computer vision is currently being used?"
      ],
      "metadata": {
        "id": "j2LOHhJ9a9jC"
      }
    },
    {
      "cell_type": "markdown",
      "source": [
        "**answer**\n",
        "\n",
        "1 autonomous vehicle\n",
        "\n",
        "2 image classification\n",
        "\n",
        "3 object detection"
      ],
      "metadata": {
        "id": "L-U0pb9XbA_J"
      }
    },
    {
      "cell_type": "markdown",
      "source": [
        "2. Search \"what is overfitting in machine learning\" and write down a sentence about what you find"
      ],
      "metadata": {
        "id": "3pnLq_w5bQUy"
      }
    },
    {
      "cell_type": "markdown",
      "source": [
        "**answer**\n",
        "\n",
        "overfitting in machine learning occurs when a model fails to predict new data accurately or a model that recognize the training data too well"
      ],
      "metadata": {
        "id": "9mnhr8XubW9p"
      }
    },
    {
      "cell_type": "markdown",
      "source": [
        "3. Search \"ways to prevent overfitting in machine learning\", write down 3 of the things you find and a sentence about each. Note: there are lots of these, so don't worry too much about all of them, just pick 3 and start with those"
      ],
      "metadata": {
        "id": "NgXQrPjSeles"
      }
    },
    {
      "cell_type": "markdown",
      "source": [
        "**answer**\n",
        "\n",
        "1. Regularization\n",
        "\n",
        "    Regularization is forcing your model to be simpler to minimize the loss function and prevent overfitting or underfitting.\n",
        "\n",
        "2. Early stopping\n",
        "\n",
        "    One common way to prevent a learning model from becoming overfit is to pause the training. This prevents the model from becoming hypersensitive to small patterns or noise in the data.\n",
        "\n",
        "3. Data Augmentation\n",
        "\n",
        "    Data Augmentation is a set of techniques which artificially increase the amount of data by generating new data points from existing data."
      ],
      "metadata": {
        "id": "FpxsnruIeodw"
      }
    },
    {
      "cell_type": "code",
      "source": [],
      "metadata": {
        "id": "remqEHOWJKnI"
      },
      "execution_count": null,
      "outputs": []
    }
  ],
  "metadata": {
    "kernelspec": {
      "display_name": "datascience",
      "language": "python",
      "name": "python3"
    },
    "language_info": {
      "name": "python",
      "version": "3.11.10"
    },
    "colab": {
      "provenance": []
    }
  },
  "nbformat": 4,
  "nbformat_minor": 0
}